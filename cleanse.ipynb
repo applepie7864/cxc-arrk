{
 "cells": [
  {
   "cell_type": "code",
   "execution_count": 1,
   "id": "8ae0a7ee",
   "metadata": {},
   "outputs": [],
   "source": [
    "import csv"
   ]
  },
  {
   "cell_type": "code",
   "execution_count": 2,
   "id": "60a8edd0",
   "metadata": {},
   "outputs": [],
   "source": [
    "import string"
   ]
  },
  {
   "cell_type": "code",
   "execution_count": 3,
   "id": "9ba24350",
   "metadata": {},
   "outputs": [],
   "source": [
    "train = \"/Users/anniewguo/Downloads/new_train.csv\""
   ]
  },
  {
   "cell_type": "code",
   "execution_count": 4,
   "id": "76267c0b",
   "metadata": {},
   "outputs": [],
   "source": [
    "def remove_punctuation(file_path):\n",
    "    with open(file_path, 'r') as file:\n",
    "        reader = csv.reader(file)\n",
    "        rows = list(reader)\n",
    "    \n",
    "    for row in rows:\n",
    "        row[2] = row[2].translate(str.maketrans('', '', string.punctuation))\n",
    "    \n",
    "    with open(file_path, 'w', newline='') as file:\n",
    "        writer = csv.writer(file)\n",
    "        writer.writerows(rows)"
   ]
  },
  {
   "cell_type": "code",
   "execution_count": 5,
   "id": "ba0594b7",
   "metadata": {},
   "outputs": [],
   "source": [
    "remove_punctuation(train)"
   ]
  },
  {
   "cell_type": "code",
   "execution_count": 6,
   "id": "675648d7",
   "metadata": {},
   "outputs": [],
   "source": [
    "import pandas as pd"
   ]
  },
  {
   "cell_type": "code",
   "execution_count": 7,
   "id": "9c82e34a",
   "metadata": {},
   "outputs": [],
   "source": [
    "import re"
   ]
  },
  {
   "cell_type": "code",
   "execution_count": 8,
   "id": "fcbd3f49",
   "metadata": {},
   "outputs": [],
   "source": [
    "def remove_special_characters(file_path):\n",
    "    train_df = pd.read_csv(file_path)\n",
    "    train_df['transcription'] = train_df['transcription'].apply(lambda x: re.sub('[^A-Za-z]+ ', ' ', x).strip())\n",
    "    train_df.to_csv(file_path, index=False)"
   ]
  },
  {
   "cell_type": "code",
   "execution_count": 9,
   "id": "8dc99657",
   "metadata": {},
   "outputs": [],
   "source": [
    "remove_special_characters(train)"
   ]
  },
  {
   "cell_type": "code",
   "execution_count": 10,
   "id": "daa81a19",
   "metadata": {},
   "outputs": [],
   "source": [
    "from spellchecker import SpellChecker"
   ]
  },
  {
   "cell_type": "code",
   "execution_count": 11,
   "id": "37eb95a0",
   "metadata": {},
   "outputs": [],
   "source": [
    "spell = SpellChecker()"
   ]
  },
  {
   "cell_type": "code",
   "execution_count": 12,
   "id": "2d86bec8",
   "metadata": {},
   "outputs": [],
   "source": [
    "def correct_spelling(text):\n",
    "    text = text.lower()\n",
    "    corrected_text = []\n",
    "\n",
    "    for word in text.split():\n",
    "        corrected_word = spell.correction(word)\n",
    "        if corrected_word:   \n",
    "            corrected_text.append(corrected_word)\n",
    "    \n",
    "    text = \" \".join(corrected_text)\n",
    "    return text"
   ]
  },
  {
   "cell_type": "code",
   "execution_count": 13,
   "id": "a8b2fa9e",
   "metadata": {},
   "outputs": [],
   "source": [
    "def remove_grammar_errors(file_path):\n",
    "    with open(file_path, 'r') as file:\n",
    "        reader = csv.reader(file)\n",
    "        rows = list(reader)\n",
    "\n",
    "    for row in rows:\n",
    "        row[2] = correct_spelling(row[2])\n",
    "\n",
    "    with open(file_path, 'w', newline='') as file:\n",
    "        writer = csv.writer(file)\n",
    "        writer.writerows(rows)"
   ]
  },
  {
   "cell_type": "code",
   "execution_count": null,
   "id": "702a0e80",
   "metadata": {},
   "outputs": [],
   "source": [
    "remove_grammar_errors(train)"
   ]
  }
 ],
 "metadata": {
  "kernelspec": {
   "display_name": "Python 3 (ipykernel)",
   "language": "python",
   "name": "python3"
  },
  "language_info": {
   "codemirror_mode": {
    "name": "ipython",
    "version": 3
   },
   "file_extension": ".py",
   "mimetype": "text/x-python",
   "name": "python",
   "nbconvert_exporter": "python",
   "pygments_lexer": "ipython3",
   "version": "3.9.0"
  }
 },
 "nbformat": 4,
 "nbformat_minor": 5
}
